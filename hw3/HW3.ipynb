{
 "cells": [
  {
   "cell_type": "code",
   "execution_count": 1,
   "id": "e9b09dfc",
   "metadata": {},
   "outputs": [],
   "source": [
    "import sys\n",
    "import numpy as np\n",
    "import pandas as pd\n",
    "import matplotlib.pyplot as plt\n",
    "import math"
   ]
  },
  {
   "cell_type": "code",
   "execution_count": 2,
   "id": "c2632362",
   "metadata": {},
   "outputs": [],
   "source": [
    "sys.path.insert(0, \"../../\")  # Добавляем родительскую директорию в `path`, чтобы python смог найти наши модули"
   ]
  },
  {
   "cell_type": "code",
   "execution_count": 2,
   "id": "c1a4dcfe",
   "metadata": {},
   "outputs": [],
   "source": [
    "import os"
   ]
  },
  {
   "cell_type": "code",
   "execution_count": 109,
   "id": "2cc73ae4",
   "metadata": {},
   "outputs": [
    {
     "ename": "ModuleNotFoundError",
     "evalue": "No module named 'modules'",
     "output_type": "error",
     "traceback": [
      "\u001b[1;31m---------------------------------------------------------------------------\u001b[0m",
      "\u001b[1;31mModuleNotFoundError\u001b[0m                       Traceback (most recent call last)",
      "Cell \u001b[1;32mIn[109], line 2\u001b[0m\n\u001b[0;32m      1\u001b[0m \u001b[38;5;66;03m# Проверим, что python теперь их видит:\u001b[39;00m\n\u001b[1;32m----> 2\u001b[0m \u001b[38;5;28;01mfrom\u001b[39;00m \u001b[38;5;21;01mmodules\u001b[39;00m\u001b[38;5;21;01m.\u001b[39;00m\u001b[38;5;21;01mimpute\u001b[39;00m \u001b[38;5;28;01mimport\u001b[39;00m InterpolationImputer\n",
      "\u001b[1;31mModuleNotFoundError\u001b[0m: No module named 'modules'"
     ]
    }
   ],
   "source": [
    "# Проверим, что python теперь их видит:\n",
    "from modules.impute import InterpolationImputer"
   ]
  },
  {
   "cell_type": "markdown",
   "id": "a0180fad",
   "metadata": {},
   "source": [
    "<div class=\"alert alert-info\">\n",
    "  <h1><center>Data (2 балла)</center></h1></div>"
   ]
  },
  {
   "cell_type": "code",
   "execution_count": 150,
   "id": "f57e4228",
   "metadata": {
    "scrolled": false
   },
   "outputs": [
    {
     "data": {
      "text/html": [
       "<div>\n",
       "<style scoped>\n",
       "    .dataframe tbody tr th:only-of-type {\n",
       "        vertical-align: middle;\n",
       "    }\n",
       "\n",
       "    .dataframe tbody tr th {\n",
       "        vertical-align: top;\n",
       "    }\n",
       "\n",
       "    .dataframe thead th {\n",
       "        text-align: right;\n",
       "    }\n",
       "</style>\n",
       "<table border=\"1\" class=\"dataframe\">\n",
       "  <thead>\n",
       "    <tr style=\"text-align: right;\">\n",
       "      <th></th>\n",
       "      <th>id</th>\n",
       "      <th>year</th>\n",
       "      <th>loan_limit</th>\n",
       "      <th>gender</th>\n",
       "      <th>approv_in_adv</th>\n",
       "      <th>loan_type</th>\n",
       "      <th>loan_purpose</th>\n",
       "      <th>credit_worthiness</th>\n",
       "      <th>open_credit</th>\n",
       "      <th>business_or_commercial</th>\n",
       "      <th>...</th>\n",
       "      <th>income</th>\n",
       "      <th>credit_type</th>\n",
       "      <th>credit_score</th>\n",
       "      <th>co-applicant_credit_type</th>\n",
       "      <th>age</th>\n",
       "      <th>submission_of_application</th>\n",
       "      <th>ltv</th>\n",
       "      <th>region</th>\n",
       "      <th>security_type</th>\n",
       "      <th>status</th>\n",
       "    </tr>\n",
       "  </thead>\n",
       "  <tbody>\n",
       "    <tr>\n",
       "      <th>0</th>\n",
       "      <td>89268</td>\n",
       "      <td>2019</td>\n",
       "      <td>cf</td>\n",
       "      <td>Joint</td>\n",
       "      <td>nopre</td>\n",
       "      <td>type1</td>\n",
       "      <td>p4</td>\n",
       "      <td>l1</td>\n",
       "      <td>nopc</td>\n",
       "      <td>nob/c</td>\n",
       "      <td>...</td>\n",
       "      <td>7380.0</td>\n",
       "      <td>EXP</td>\n",
       "      <td>512</td>\n",
       "      <td>EXP</td>\n",
       "      <td>65-74</td>\n",
       "      <td>to_inst</td>\n",
       "      <td>70.292208</td>\n",
       "      <td>North</td>\n",
       "      <td>direct</td>\n",
       "      <td>0</td>\n",
       "    </tr>\n",
       "    <tr>\n",
       "      <th>1</th>\n",
       "      <td>125974</td>\n",
       "      <td>2019</td>\n",
       "      <td>cf</td>\n",
       "      <td>Joint</td>\n",
       "      <td>nopre</td>\n",
       "      <td>type1</td>\n",
       "      <td>p1</td>\n",
       "      <td>l1</td>\n",
       "      <td>nopc</td>\n",
       "      <td>nob/c</td>\n",
       "      <td>...</td>\n",
       "      <td>8580.0</td>\n",
       "      <td>EXP</td>\n",
       "      <td>588</td>\n",
       "      <td>EXP</td>\n",
       "      <td>35-44</td>\n",
       "      <td>not_inst</td>\n",
       "      <td>80.013193</td>\n",
       "      <td>North</td>\n",
       "      <td>direct</td>\n",
       "      <td>0</td>\n",
       "    </tr>\n",
       "    <tr>\n",
       "      <th>2</th>\n",
       "      <td>62363</td>\n",
       "      <td>2019</td>\n",
       "      <td>cf</td>\n",
       "      <td>Female</td>\n",
       "      <td>nopre</td>\n",
       "      <td>type1</td>\n",
       "      <td>p1</td>\n",
       "      <td>l1</td>\n",
       "      <td>nopc</td>\n",
       "      <td>nob/c</td>\n",
       "      <td>...</td>\n",
       "      <td>4860.0</td>\n",
       "      <td>CRIF</td>\n",
       "      <td>801</td>\n",
       "      <td>EXP</td>\n",
       "      <td>35-44</td>\n",
       "      <td>to_inst</td>\n",
       "      <td>99.050633</td>\n",
       "      <td>North</td>\n",
       "      <td>direct</td>\n",
       "      <td>1</td>\n",
       "    </tr>\n",
       "    <tr>\n",
       "      <th>3</th>\n",
       "      <td>106793</td>\n",
       "      <td>2019</td>\n",
       "      <td>cf</td>\n",
       "      <td>Sex Not Available</td>\n",
       "      <td>nopre</td>\n",
       "      <td>type1</td>\n",
       "      <td>p4</td>\n",
       "      <td>l1</td>\n",
       "      <td>nopc</td>\n",
       "      <td>nob/c</td>\n",
       "      <td>...</td>\n",
       "      <td>6000.0</td>\n",
       "      <td>EQUI</td>\n",
       "      <td>798</td>\n",
       "      <td>EXP</td>\n",
       "      <td>35-44</td>\n",
       "      <td>to_inst</td>\n",
       "      <td>NaN</td>\n",
       "      <td>south</td>\n",
       "      <td>direct</td>\n",
       "      <td>1</td>\n",
       "    </tr>\n",
       "    <tr>\n",
       "      <th>4</th>\n",
       "      <td>66272</td>\n",
       "      <td>2019</td>\n",
       "      <td>cf</td>\n",
       "      <td>Joint</td>\n",
       "      <td>nopre</td>\n",
       "      <td>type1</td>\n",
       "      <td>p3</td>\n",
       "      <td>l1</td>\n",
       "      <td>nopc</td>\n",
       "      <td>nob/c</td>\n",
       "      <td>...</td>\n",
       "      <td>10500.0</td>\n",
       "      <td>CRIF</td>\n",
       "      <td>554</td>\n",
       "      <td>EXP</td>\n",
       "      <td>&gt;74</td>\n",
       "      <td>not_inst</td>\n",
       "      <td>69.295302</td>\n",
       "      <td>North</td>\n",
       "      <td>direct</td>\n",
       "      <td>0</td>\n",
       "    </tr>\n",
       "    <tr>\n",
       "      <th>...</th>\n",
       "      <td>...</td>\n",
       "      <td>...</td>\n",
       "      <td>...</td>\n",
       "      <td>...</td>\n",
       "      <td>...</td>\n",
       "      <td>...</td>\n",
       "      <td>...</td>\n",
       "      <td>...</td>\n",
       "      <td>...</td>\n",
       "      <td>...</td>\n",
       "      <td>...</td>\n",
       "      <td>...</td>\n",
       "      <td>...</td>\n",
       "      <td>...</td>\n",
       "      <td>...</td>\n",
       "      <td>...</td>\n",
       "      <td>...</td>\n",
       "      <td>...</td>\n",
       "      <td>...</td>\n",
       "      <td>...</td>\n",
       "      <td>...</td>\n",
       "    </tr>\n",
       "    <tr>\n",
       "      <th>118931</th>\n",
       "      <td>110475</td>\n",
       "      <td>2019</td>\n",
       "      <td>cf</td>\n",
       "      <td>Joint</td>\n",
       "      <td>pre</td>\n",
       "      <td>type1</td>\n",
       "      <td>p1</td>\n",
       "      <td>l1</td>\n",
       "      <td>nopc</td>\n",
       "      <td>nob/c</td>\n",
       "      <td>...</td>\n",
       "      <td>7200.0</td>\n",
       "      <td>CRIF</td>\n",
       "      <td>728</td>\n",
       "      <td>EXP</td>\n",
       "      <td>55-64</td>\n",
       "      <td>to_inst</td>\n",
       "      <td>92.534722</td>\n",
       "      <td>North</td>\n",
       "      <td>direct</td>\n",
       "      <td>0</td>\n",
       "    </tr>\n",
       "    <tr>\n",
       "      <th>118932</th>\n",
       "      <td>30229</td>\n",
       "      <td>2019</td>\n",
       "      <td>cf</td>\n",
       "      <td>Sex Not Available</td>\n",
       "      <td>nopre</td>\n",
       "      <td>type3</td>\n",
       "      <td>p3</td>\n",
       "      <td>l1</td>\n",
       "      <td>nopc</td>\n",
       "      <td>nob/c</td>\n",
       "      <td>...</td>\n",
       "      <td>3180.0</td>\n",
       "      <td>CIB</td>\n",
       "      <td>656</td>\n",
       "      <td>CIB</td>\n",
       "      <td>&gt;74</td>\n",
       "      <td>to_inst</td>\n",
       "      <td>65.625000</td>\n",
       "      <td>south</td>\n",
       "      <td>direct</td>\n",
       "      <td>0</td>\n",
       "    </tr>\n",
       "    <tr>\n",
       "      <th>118933</th>\n",
       "      <td>141826</td>\n",
       "      <td>2019</td>\n",
       "      <td>cf</td>\n",
       "      <td>Male</td>\n",
       "      <td>pre</td>\n",
       "      <td>type2</td>\n",
       "      <td>p4</td>\n",
       "      <td>l1</td>\n",
       "      <td>nopc</td>\n",
       "      <td>b/c</td>\n",
       "      <td>...</td>\n",
       "      <td>2700.0</td>\n",
       "      <td>EXP</td>\n",
       "      <td>682</td>\n",
       "      <td>CIB</td>\n",
       "      <td>65-74</td>\n",
       "      <td>to_inst</td>\n",
       "      <td>58.445946</td>\n",
       "      <td>North</td>\n",
       "      <td>direct</td>\n",
       "      <td>1</td>\n",
       "    </tr>\n",
       "    <tr>\n",
       "      <th>118934</th>\n",
       "      <td>120759</td>\n",
       "      <td>2019</td>\n",
       "      <td>cf</td>\n",
       "      <td>Sex Not Available</td>\n",
       "      <td>pre</td>\n",
       "      <td>type1</td>\n",
       "      <td>p3</td>\n",
       "      <td>l1</td>\n",
       "      <td>nopc</td>\n",
       "      <td>nob/c</td>\n",
       "      <td>...</td>\n",
       "      <td>3840.0</td>\n",
       "      <td>CIB</td>\n",
       "      <td>871</td>\n",
       "      <td>CIB</td>\n",
       "      <td>55-64</td>\n",
       "      <td>to_inst</td>\n",
       "      <td>68.503289</td>\n",
       "      <td>south</td>\n",
       "      <td>direct</td>\n",
       "      <td>0</td>\n",
       "    </tr>\n",
       "    <tr>\n",
       "      <th>118935</th>\n",
       "      <td>86630</td>\n",
       "      <td>2019</td>\n",
       "      <td>cf</td>\n",
       "      <td>Sex Not Available</td>\n",
       "      <td>nopre</td>\n",
       "      <td>type1</td>\n",
       "      <td>p1</td>\n",
       "      <td>l1</td>\n",
       "      <td>nopc</td>\n",
       "      <td>nob/c</td>\n",
       "      <td>...</td>\n",
       "      <td>4020.0</td>\n",
       "      <td>CRIF</td>\n",
       "      <td>849</td>\n",
       "      <td>CIB</td>\n",
       "      <td>25-34</td>\n",
       "      <td>to_inst</td>\n",
       "      <td>95.091324</td>\n",
       "      <td>south</td>\n",
       "      <td>direct</td>\n",
       "      <td>0</td>\n",
       "    </tr>\n",
       "  </tbody>\n",
       "</table>\n",
       "<p>118936 rows × 33 columns</p>\n",
       "</div>"
      ],
      "text/plain": [
       "            id  year loan_limit             gender approv_in_adv loan_type  \\\n",
       "0        89268  2019         cf              Joint         nopre     type1   \n",
       "1       125974  2019         cf              Joint         nopre     type1   \n",
       "2        62363  2019         cf             Female         nopre     type1   \n",
       "3       106793  2019         cf  Sex Not Available         nopre     type1   \n",
       "4        66272  2019         cf              Joint         nopre     type1   \n",
       "...        ...   ...        ...                ...           ...       ...   \n",
       "118931  110475  2019         cf              Joint           pre     type1   \n",
       "118932   30229  2019         cf  Sex Not Available         nopre     type3   \n",
       "118933  141826  2019         cf               Male           pre     type2   \n",
       "118934  120759  2019         cf  Sex Not Available           pre     type1   \n",
       "118935   86630  2019         cf  Sex Not Available         nopre     type1   \n",
       "\n",
       "       loan_purpose credit_worthiness open_credit business_or_commercial  ...  \\\n",
       "0                p4                l1        nopc                  nob/c  ...   \n",
       "1                p1                l1        nopc                  nob/c  ...   \n",
       "2                p1                l1        nopc                  nob/c  ...   \n",
       "3                p4                l1        nopc                  nob/c  ...   \n",
       "4                p3                l1        nopc                  nob/c  ...   \n",
       "...             ...               ...         ...                    ...  ...   \n",
       "118931           p1                l1        nopc                  nob/c  ...   \n",
       "118932           p3                l1        nopc                  nob/c  ...   \n",
       "118933           p4                l1        nopc                    b/c  ...   \n",
       "118934           p3                l1        nopc                  nob/c  ...   \n",
       "118935           p1                l1        nopc                  nob/c  ...   \n",
       "\n",
       "         income  credit_type  credit_score  co-applicant_credit_type    age  \\\n",
       "0        7380.0          EXP           512                       EXP  65-74   \n",
       "1        8580.0          EXP           588                       EXP  35-44   \n",
       "2        4860.0         CRIF           801                       EXP  35-44   \n",
       "3        6000.0         EQUI           798                       EXP  35-44   \n",
       "4       10500.0         CRIF           554                       EXP    >74   \n",
       "...         ...          ...           ...                       ...    ...   \n",
       "118931   7200.0         CRIF           728                       EXP  55-64   \n",
       "118932   3180.0          CIB           656                       CIB    >74   \n",
       "118933   2700.0          EXP           682                       CIB  65-74   \n",
       "118934   3840.0          CIB           871                       CIB  55-64   \n",
       "118935   4020.0         CRIF           849                       CIB  25-34   \n",
       "\n",
       "       submission_of_application        ltv region  security_type status  \n",
       "0                        to_inst  70.292208  North         direct      0  \n",
       "1                       not_inst  80.013193  North         direct      0  \n",
       "2                        to_inst  99.050633  North         direct      1  \n",
       "3                        to_inst        NaN  south         direct      1  \n",
       "4                       not_inst  69.295302  North         direct      0  \n",
       "...                          ...        ...    ...            ...    ...  \n",
       "118931                   to_inst  92.534722  North         direct      0  \n",
       "118932                   to_inst  65.625000  south         direct      0  \n",
       "118933                   to_inst  58.445946  North         direct      1  \n",
       "118934                   to_inst  68.503289  south         direct      0  \n",
       "118935                   to_inst  95.091324  south         direct      0  \n",
       "\n",
       "[118936 rows x 33 columns]"
      ]
     },
     "execution_count": 150,
     "metadata": {},
     "output_type": "execute_result"
    }
   ],
   "source": [
    "df = pd.read_csv(\"train.csv\", low_memory=False)\n",
    "df.columns = map(str.lower, df.columns)\n",
    "df_copy = df.copy()\n",
    "df"
   ]
  },
  {
   "cell_type": "code",
   "execution_count": 151,
   "id": "6ef31875",
   "metadata": {},
   "outputs": [
    {
     "data": {
      "text/plain": [
       "mh    24\n",
       "Name: construction_type, dtype: int64"
      ]
     },
     "execution_count": 151,
     "metadata": {},
     "output_type": "execute_result"
    }
   ],
   "source": [
    "df_copy['construction_type'].loc[df_copy['secured_by'] == 'land'].value_counts()"
   ]
  },
  {
   "cell_type": "markdown",
   "id": "e261a940",
   "metadata": {},
   "source": [
    "#### удаление колонок\n",
    "\n",
    "###### year\n",
    "он у всех один в этой колонке нет смысла"
   ]
  },
  {
   "cell_type": "code",
   "execution_count": 152,
   "id": "16c2663d",
   "metadata": {},
   "outputs": [],
   "source": [
    "df_copy = df_copy.drop('year', axis=1)\n",
    "df_copy = df_copy.set_index('id')"
   ]
  },
  {
   "cell_type": "markdown",
   "id": "75d7dcb5",
   "metadata": {},
   "source": [
    "##### security_type, secured_by, construction_type\n",
    "у этих колонок одинаковое кол-во определенных значений, при этом эти значения пренадлежат одним и тем же людям. Соотвпетсвенно можно удалить любые 2 из них, т.к они по сути копируют друг друга"
   ]
  },
  {
   "cell_type": "code",
   "execution_count": 153,
   "id": "79ce4a7f",
   "metadata": {},
   "outputs": [],
   "source": [
    "df_copy = df_copy.drop('construction_type', axis=1)\n",
    "df_copy = df_copy.drop('secured_by', axis=1)"
   ]
  },
  {
   "cell_type": "markdown",
   "id": "8454c63b",
   "metadata": {},
   "source": [
    "#### interest_rate_spread, rate_of_interest\n",
    "они обсолютно влияют на прогноз статуса, поэтому мы их выкенем"
   ]
  },
  {
   "cell_type": "code",
   "execution_count": 154,
   "id": "e229261c",
   "metadata": {},
   "outputs": [],
   "source": [
    "df_copy = df_copy.drop('rate_of_interest', axis=1)\n",
    "df_copy = df_copy.drop('interest_rate_spread', axis=1)"
   ]
  },
  {
   "cell_type": "code",
   "execution_count": 155,
   "id": "734ab1eb",
   "metadata": {},
   "outputs": [],
   "source": [
    "X = df_copy.drop(columns=[\"status\"])\n",
    "Y = df_copy[\"status\"]"
   ]
  },
  {
   "cell_type": "code",
   "execution_count": 156,
   "id": "5f1c8f6b",
   "metadata": {},
   "outputs": [
    {
     "data": {
      "text/plain": [
       "0    89625\n",
       "1    29311\n",
       "Name: status, dtype: int64"
      ]
     },
     "execution_count": 156,
     "metadata": {},
     "output_type": "execute_result"
    }
   ],
   "source": [
    "y.value_counts()"
   ]
  },
  {
   "cell_type": "markdown",
   "id": "8fde7325",
   "metadata": {},
   "source": [
    "### Train | Test split"
   ]
  },
  {
   "cell_type": "markdown",
   "id": "317021b1",
   "metadata": {},
   "source": [
    "Разбейте датасет на тренировочный и тестовый (оставьте 20% для теста, не забудтье зафиксировать random_seed)"
   ]
  },
  {
   "cell_type": "code",
   "execution_count": 157,
   "id": "924440cf",
   "metadata": {},
   "outputs": [],
   "source": [
    "from sklearn.model_selection import train_test_split"
   ]
  },
  {
   "cell_type": "code",
   "execution_count": 158,
   "id": "8249842d",
   "metadata": {},
   "outputs": [],
   "source": [
    "# cids = sorted(set(y.index.get_level_values(\"status\")))\n",
    "X_train, X_test, Y_train, Y_test = train_test_split(X, Y,  test_size=0.2, random_state=42)"
   ]
  },
  {
   "cell_type": "markdown",
   "id": "d0afe8fe",
   "metadata": {},
   "source": [
    "### First look and general info"
   ]
  },
  {
   "cell_type": "markdown",
   "id": "97821c20",
   "metadata": {},
   "source": [
    "Отобразите базовую информацию о датасете: размер, тип данных, базовые статистики"
   ]
  },
  {
   "cell_type": "code",
   "execution_count": 159,
   "id": "23235d9f",
   "metadata": {},
   "outputs": [
    {
     "name": "stdout",
     "output_type": "stream",
     "text": [
      "loan_limit\n",
      "Type of column: object\n",
      "Is unique: False\n",
      "% of na: 0.023006263925673686\n"
     ]
    },
    {
     "data": {
      "text/plain": [
       "cf     86513\n",
       "ncf     6446\n",
       "Name: loan_limit, dtype: int64"
      ]
     },
     "metadata": {},
     "output_type": "display_data"
    },
    {
     "name": "stdout",
     "output_type": "stream",
     "text": [
      "----------------------------------------------------------------------------------------------------\n",
      "\n",
      "gender\n",
      "Type of column: object\n",
      "Is unique: False\n",
      "% of na: 0.0\n"
     ]
    },
    {
     "data": {
      "text/plain": [
       "Male                 27176\n",
       "Joint                26435\n",
       "Sex Not Available    24020\n",
       "Female               17517\n",
       "Name: gender, dtype: int64"
      ]
     },
     "metadata": {},
     "output_type": "display_data"
    },
    {
     "name": "stdout",
     "output_type": "stream",
     "text": [
      "----------------------------------------------------------------------------------------------------\n",
      "\n",
      "approv_in_adv\n",
      "Type of column: object\n",
      "Is unique: False\n",
      "% of na: 0.006022196998360449\n"
     ]
    },
    {
     "data": {
      "text/plain": [
       "nopre    79781\n",
       "pre      14794\n",
       "Name: approv_in_adv, dtype: int64"
      ]
     },
     "metadata": {},
     "output_type": "display_data"
    },
    {
     "name": "stdout",
     "output_type": "stream",
     "text": [
      "----------------------------------------------------------------------------------------------------\n",
      "\n",
      "loan_type\n",
      "Type of column: object\n",
      "Is unique: False\n",
      "% of na: 0.0\n"
     ]
    },
    {
     "data": {
      "text/plain": [
       "type1    72377\n",
       "type2    13217\n",
       "type3     9554\n",
       "Name: loan_type, dtype: int64"
      ]
     },
     "metadata": {},
     "output_type": "display_data"
    },
    {
     "name": "stdout",
     "output_type": "stream",
     "text": [
      "----------------------------------------------------------------------------------------------------\n",
      "\n",
      "loan_purpose\n",
      "Type of column: object\n",
      "Is unique: False\n",
      "% of na: 0.000851305334846765\n"
     ]
    },
    {
     "data": {
      "text/plain": [
       "p3    35636\n",
       "p4    35144\n",
       "p1    22132\n",
       "p2     2155\n",
       "Name: loan_purpose, dtype: int64"
      ]
     },
     "metadata": {},
     "output_type": "display_data"
    },
    {
     "name": "stdout",
     "output_type": "stream",
     "text": [
      "----------------------------------------------------------------------------------------------------\n",
      "\n",
      "credit_worthiness\n",
      "Type of column: object\n",
      "Is unique: False\n",
      "% of na: 0.0\n"
     ]
    },
    {
     "data": {
      "text/plain": [
       "l1    91124\n",
       "l2     4024\n",
       "Name: credit_worthiness, dtype: int64"
      ]
     },
     "metadata": {},
     "output_type": "display_data"
    },
    {
     "name": "stdout",
     "output_type": "stream",
     "text": [
      "----------------------------------------------------------------------------------------------------\n",
      "\n",
      "open_credit\n",
      "Type of column: object\n",
      "Is unique: False\n",
      "% of na: 0.0\n"
     ]
    },
    {
     "data": {
      "text/plain": [
       "nopc    94781\n",
       "opc       367\n",
       "Name: open_credit, dtype: int64"
      ]
     },
     "metadata": {},
     "output_type": "display_data"
    },
    {
     "name": "stdout",
     "output_type": "stream",
     "text": [
      "----------------------------------------------------------------------------------------------------\n",
      "\n",
      "business_or_commercial\n",
      "Type of column: object\n",
      "Is unique: False\n",
      "% of na: 0.0\n"
     ]
    },
    {
     "data": {
      "text/plain": [
       "nob/c    81931\n",
       "b/c      13217\n",
       "Name: business_or_commercial, dtype: int64"
      ]
     },
     "metadata": {},
     "output_type": "display_data"
    },
    {
     "name": "stdout",
     "output_type": "stream",
     "text": [
      "----------------------------------------------------------------------------------------------------\n",
      "\n",
      "loan_amount\n",
      "Type of column: int64\n",
      "Is unique: False\n",
      "% of na: 0.0\n"
     ]
    },
    {
     "data": {
      "text/plain": [
       "206500     2915\n",
       "256500     2622\n",
       "226500     2535\n",
       "156500     2508\n",
       "486500     2434\n",
       "           ... \n",
       "1526500       1\n",
       "1646500       1\n",
       "1826500       1\n",
       "1566500       1\n",
       "2226500       1\n",
       "Name: loan_amount, Length: 204, dtype: int64"
      ]
     },
     "metadata": {},
     "output_type": "display_data"
    },
    {
     "name": "stdout",
     "output_type": "stream",
     "text": [
      "----------------------------------------------------------------------------------------------------\n",
      "\n",
      "upfront_charges\n",
      "Type of column: float64\n",
      "Is unique: False\n",
      "% of na: 0.267183755833018\n"
     ]
    },
    {
     "data": {
      "text/plain": [
       "0.00       13399\n",
       "1250.00      744\n",
       "1150.00      567\n",
       "795.00       312\n",
       "295.00       270\n",
       "           ...  \n",
       "3264.28        1\n",
       "590.96         1\n",
       "3731.69        1\n",
       "1498.63        1\n",
       "2656.89        1\n",
       "Name: upfront_charges, Length: 39317, dtype: int64"
      ]
     },
     "metadata": {},
     "output_type": "display_data"
    },
    {
     "name": "stdout",
     "output_type": "stream",
     "text": [
      "----------------------------------------------------------------------------------------------------\n",
      "\n",
      "term\n",
      "Type of column: float64\n",
      "Is unique: False\n",
      "% of na: 0.00027325850254340605\n"
     ]
    },
    {
     "data": {
      "text/plain": [
       "360.0    77966\n",
       "180.0     8302\n",
       "240.0     3684\n",
       "300.0     1806\n",
       "324.0     1738\n",
       "120.0      318\n",
       "144.0      185\n",
       "348.0      159\n",
       "336.0      151\n",
       "312.0      123\n",
       "96.0       122\n",
       "156.0      105\n",
       "216.0       74\n",
       "276.0       67\n",
       "132.0       63\n",
       "288.0       55\n",
       "228.0       51\n",
       "168.0       51\n",
       "204.0       38\n",
       "264.0       30\n",
       "108.0       18\n",
       "192.0        9\n",
       "252.0        6\n",
       "165.0        1\n",
       "Name: term, dtype: int64"
      ]
     },
     "metadata": {},
     "output_type": "display_data"
    },
    {
     "name": "stdout",
     "output_type": "stream",
     "text": [
      "----------------------------------------------------------------------------------------------------\n",
      "\n",
      "neg_ammortization\n",
      "Type of column: object\n",
      "Is unique: False\n",
      "% of na: 0.0007777357380081557\n"
     ]
    },
    {
     "data": {
      "text/plain": [
       "not_neg    85366\n",
       "neg_amm     9708\n",
       "Name: neg_ammortization, dtype: int64"
      ]
     },
     "metadata": {},
     "output_type": "display_data"
    },
    {
     "name": "stdout",
     "output_type": "stream",
     "text": [
      "----------------------------------------------------------------------------------------------------\n",
      "\n",
      "interest_only\n",
      "Type of column: object\n",
      "Is unique: False\n",
      "% of na: 0.0\n"
     ]
    },
    {
     "data": {
      "text/plain": [
       "not_int     90512\n",
       "int_only     4636\n",
       "Name: interest_only, dtype: int64"
      ]
     },
     "metadata": {},
     "output_type": "display_data"
    },
    {
     "name": "stdout",
     "output_type": "stream",
     "text": [
      "----------------------------------------------------------------------------------------------------\n",
      "\n",
      "lump_sum_payment\n",
      "Type of column: object\n",
      "Is unique: False\n",
      "% of na: 0.0\n"
     ]
    },
    {
     "data": {
      "text/plain": [
       "not_lpsm    92966\n",
       "lpsm         2182\n",
       "Name: lump_sum_payment, dtype: int64"
      ]
     },
     "metadata": {},
     "output_type": "display_data"
    },
    {
     "name": "stdout",
     "output_type": "stream",
     "text": [
      "----------------------------------------------------------------------------------------------------\n",
      "\n",
      "property_value\n",
      "Type of column: float64\n",
      "Is unique: False\n",
      "% of na: 0.10274519695632069\n"
     ]
    },
    {
     "data": {
      "text/plain": [
       "3.080000e+05    1809\n",
       "2.580000e+05    1727\n",
       "3.580000e+05    1711\n",
       "3.280000e+05    1622\n",
       "4.080000e+05    1608\n",
       "                ... \n",
       "2.702317e+11       1\n",
       "1.605537e+09       1\n",
       "2.551385e+10       1\n",
       "3.038000e+06       1\n",
       "3.005512e+08       1\n",
       "Name: property_value, Length: 429, dtype: int64"
      ]
     },
     "metadata": {},
     "output_type": "display_data"
    },
    {
     "name": "stdout",
     "output_type": "stream",
     "text": [
      "----------------------------------------------------------------------------------------------------\n",
      "\n",
      "occupancy_type\n",
      "Type of column: object\n",
      "Is unique: False\n",
      "% of na: 0.0\n"
     ]
    },
    {
     "data": {
      "text/plain": [
       "pr    88518\n",
       "ir     4612\n",
       "sr     2018\n",
       "Name: occupancy_type, dtype: int64"
      ]
     },
     "metadata": {},
     "output_type": "display_data"
    },
    {
     "name": "stdout",
     "output_type": "stream",
     "text": [
      "----------------------------------------------------------------------------------------------------\n",
      "\n",
      "total_units\n",
      "Type of column: object\n",
      "Is unique: False\n",
      "% of na: 0.0\n"
     ]
    },
    {
     "data": {
      "text/plain": [
       "1U    93774\n",
       "2U      930\n",
       "3U      235\n",
       "4U      209\n",
       "Name: total_units, dtype: int64"
      ]
     },
     "metadata": {},
     "output_type": "display_data"
    },
    {
     "name": "stdout",
     "output_type": "stream",
     "text": [
      "----------------------------------------------------------------------------------------------------\n",
      "\n",
      "income\n",
      "Type of column: float64\n",
      "Is unique: False\n",
      "% of na: 0.06193509059570353\n"
     ]
    },
    {
     "data": {
      "text/plain": [
       "0.0        848\n",
       "3600.0     805\n",
       "4200.0     800\n",
       "4800.0     779\n",
       "3720.0     763\n",
       "          ... \n",
       "95820.0      1\n",
       "36060.0      1\n",
       "52140.0      1\n",
       "77760.0      1\n",
       "54900.0      1\n",
       "Name: income, Length: 878, dtype: int64"
      ]
     },
     "metadata": {},
     "output_type": "display_data"
    },
    {
     "name": "stdout",
     "output_type": "stream",
     "text": [
      "----------------------------------------------------------------------------------------------------\n",
      "\n",
      "credit_type\n",
      "Type of column: object\n",
      "Is unique: False\n",
      "% of na: 0.0\n"
     ]
    },
    {
     "data": {
      "text/plain": [
       "CIB     30649\n",
       "CRIF    28172\n",
       "EXP     26425\n",
       "EQUI     9902\n",
       "Name: credit_type, dtype: int64"
      ]
     },
     "metadata": {},
     "output_type": "display_data"
    },
    {
     "name": "stdout",
     "output_type": "stream",
     "text": [
      "----------------------------------------------------------------------------------------------------\n",
      "\n",
      "credit_score\n",
      "Type of column: object\n",
      "Is unique: False\n",
      "% of na: 0.0\n"
     ]
    },
    {
     "data": {
      "text/plain": [
       "687     279\n",
       "864     271\n",
       "890     269\n",
       "834     269\n",
       "554     269\n",
       "       ... \n",
       "_576      1\n",
       "640_      1\n",
       "_675      1\n",
       "_801      1\n",
       "71_2      1\n",
       "Name: credit_score, Length: 409, dtype: int64"
      ]
     },
     "metadata": {},
     "output_type": "display_data"
    },
    {
     "name": "stdout",
     "output_type": "stream",
     "text": [
      "----------------------------------------------------------------------------------------------------\n",
      "\n",
      "co-applicant_credit_type\n",
      "Type of column: object\n",
      "Is unique: False\n",
      "% of na: 0.0\n"
     ]
    },
    {
     "data": {
      "text/plain": [
       "EXP    47645\n",
       "CIB    47503\n",
       "Name: co-applicant_credit_type, dtype: int64"
      ]
     },
     "metadata": {},
     "output_type": "display_data"
    },
    {
     "name": "stdout",
     "output_type": "stream",
     "text": [
      "----------------------------------------------------------------------------------------------------\n",
      "\n",
      "age\n",
      "Type of column: object\n",
      "Is unique: False\n",
      "% of na: 0.0013242527430949679\n"
     ]
    },
    {
     "data": {
      "text/plain": [
       "45-54    22256\n",
       "35-44    20981\n",
       "55-64    20828\n",
       "65-74    13235\n",
       "25-34    12282\n",
       ">74       4583\n",
       "<25        857\n",
       "Name: age, dtype: int64"
      ]
     },
     "metadata": {},
     "output_type": "display_data"
    },
    {
     "name": "stdout",
     "output_type": "stream",
     "text": [
      "----------------------------------------------------------------------------------------------------\n",
      "\n",
      "submission_of_application\n",
      "Type of column: object\n",
      "Is unique: False\n",
      "% of na: 0.0013242527430949679\n"
     ]
    },
    {
     "data": {
      "text/plain": [
       "to_inst     61171\n",
       "not_inst    33851\n",
       "Name: submission_of_application, dtype: int64"
      ]
     },
     "metadata": {},
     "output_type": "display_data"
    },
    {
     "name": "stdout",
     "output_type": "stream",
     "text": [
      "----------------------------------------------------------------------------------------------------\n",
      "\n",
      "ltv\n",
      "Type of column: float64\n",
      "Is unique: False\n",
      "% of na: 0.10274519695632069\n"
     ]
    },
    {
     "data": {
      "text/plain": [
       "81.250000    328\n",
       "91.666667    327\n",
       "80.038760    227\n",
       "80.032468    216\n",
       "78.846154    213\n",
       "            ... \n",
       "36.094848      1\n",
       "33.635647      1\n",
       "27.607285      1\n",
       "62.524558      1\n",
       "24.969287      1\n",
       "Name: ltv, Length: 7117, dtype: int64"
      ]
     },
     "metadata": {},
     "output_type": "display_data"
    },
    {
     "name": "stdout",
     "output_type": "stream",
     "text": [
      "----------------------------------------------------------------------------------------------------\n",
      "\n",
      "region\n",
      "Type of column: object\n",
      "Is unique: False\n",
      "% of na: 0.0\n"
     ]
    },
    {
     "data": {
      "text/plain": [
       "North         47936\n",
       "south         40791\n",
       "central        5635\n",
       "North-East      786\n",
       "Name: region, dtype: int64"
      ]
     },
     "metadata": {},
     "output_type": "display_data"
    },
    {
     "name": "stdout",
     "output_type": "stream",
     "text": [
      "----------------------------------------------------------------------------------------------------\n",
      "\n",
      "security_type\n",
      "Type of column: object\n",
      "Is unique: False\n",
      "% of na: 0.0\n"
     ]
    },
    {
     "data": {
      "text/plain": [
       "direct      95128\n",
       "Indriect       20\n",
       "Name: security_type, dtype: int64"
      ]
     },
     "metadata": {},
     "output_type": "display_data"
    },
    {
     "name": "stdout",
     "output_type": "stream",
     "text": [
      "----------------------------------------------------------------------------------------------------\n",
      "\n"
     ]
    }
   ],
   "source": [
    "for col_name, col_value in X_train.items():\n",
    "    print(col_name)\n",
    "    print(f'Type of column: {col_value.dtype}')\n",
    "    print(f'Is unique: {col_value.is_unique}')\n",
    "    print(f'% of na: {col_value.isna().mean()}')\n",
    "    display(col_value.value_counts())\n",
    "    print('-'*100, end='\\n\\n')"
   ]
  },
  {
   "cell_type": "markdown",
   "id": "fc519282",
   "metadata": {},
   "source": [
    "### Data types normalization"
   ]
  },
  {
   "cell_type": "markdown",
   "id": "e8313d61",
   "metadata": {},
   "source": [
    "Проверьте, все ли признаки имеют правильный тип данных?"
   ]
  },
  {
   "cell_type": "markdown",
   "id": "2b9c0ab4",
   "metadata": {},
   "source": [
    "### credit_score\n",
    "у кредит скор тип object в то время как ему следует быть числовым, также у него есть значения с _ которые надо исправить \n",
    "### total_units\n",
    "имеет object type, вида intU, преобразуем его просто в int, т.к будем считать, что total units означает кол-во товаров/услуг то есть их можно сравнить по кол-ву и в нашем случае 4U больше чем 3U \n",
    "для этих двух легко можно воспользоваться одним способом(да я знаю что в total_units можно просто написать .str[0]), но я решил сделать одним RegexTransformer-ом"
   ]
  },
  {
   "cell_type": "markdown",
   "id": "f4af4597",
   "metadata": {},
   "source": [
    "### так называемый RegexTransformer для колонок total_units and credit_score"
   ]
  },
  {
   "cell_type": "code",
   "execution_count": 160,
   "id": "87170d27",
   "metadata": {},
   "outputs": [],
   "source": [
    "from typing import List\n",
    "from sklearn.base import BaseEstimator, TransformerMixin\n",
    "from sklearn.utils.validation import check_is_fitted\n",
    "\n",
    "\n",
    "class CustomTransformer(BaseEstimator, TransformerMixin):\n",
    "\n",
    "    def __init__(self) -> None:\n",
    "        self.feature_names_in_: List[str]\n",
    "        self.n_features_ : int\n",
    "        self.is_fitted_: bool\n",
    "\n",
    "    def fit(self, X, y=None, **params) -> 'CustomTransformer':\n",
    "        self.feature_names_in_ = list(X.columns)\n",
    "        self.n_features_ = X.shape[1]\n",
    "        self.is_fitted_ = True\n",
    "        return self\n",
    "\n",
    "    def transform(self, X, copy: bool = False, **params):\n",
    "        check_is_fitted(self, 'is_fitted_')\n",
    "        if copy:\n",
    "            X = X.copy()\n",
    "        return X\n",
    "\n",
    "    def get_feature_names_out(self, input_features=None) -> List[str]:\n",
    "        return self.feature_names_in_"
   ]
  },
  {
   "cell_type": "code",
   "execution_count": 161,
   "id": "52313cba",
   "metadata": {},
   "outputs": [],
   "source": [
    "from sklearn.base import BaseEstimator, TransformerMixin\n",
    "from typing import Optional\n",
    "\n",
    "\n",
    "class RegexTransformer(CustomTransformer):\n",
    "    \n",
    "    def __init__(self, regex: str, target_dtype: Optional[type]):\n",
    "        self.regex = regex\n",
    "        self.target_dtype = target_dtype\n",
    "    \n",
    "    def transform(self, X: pd.DataFrame, **kwargs) -> pd.DataFrame: \n",
    "        X = super().transform(X)\n",
    "        for col_name in X.columns:\n",
    "            X[col_name] = X[col_name].str.findall(self.regex).map(lambda x: ''.join(x)).astype(self.target_dtype)\n",
    "        return X"
   ]
  },
  {
   "cell_type": "markdown",
   "id": "a5c6d2e0",
   "metadata": {},
   "source": [
    "### Extreme values detection"
   ]
  },
  {
   "cell_type": "markdown",
   "id": "751ca100",
   "metadata": {},
   "source": [
    "Проверьте, есть ли аномальные данные? Постройте базовые визуализации там, где это уместно"
   ]
  },
  {
   "cell_type": "code",
   "execution_count": 162,
   "id": "f556b87c",
   "metadata": {},
   "outputs": [],
   "source": [
    "def visualization(X: pd.DataFrame):\n",
    "    for col_name, col_values in X.items():\n",
    "        fig, (ax0, ax1) = plt.subplots(nrows=2, figsize=(11.5, 12))\n",
    "        _ = ax0.boxplot(col_values.dropna(), labels=[\"\"], vert=False, widths=0.8, showmeans=True)\n",
    "        _ = ax1.boxplot(col_values.dropna(), labels=[\"\"], vert=False, widths=0.8, showmeans=True)\n",
    "        ax0.set(title=f\"boxplot of {col_name}\")\n",
    "        ax1.set(title=f\"boxplot of {col_name}, log axes\", xscale=\"log\")\n",
    "        plt.show()"
   ]
  },
  {
   "cell_type": "code",
   "execution_count": 163,
   "id": "4d3a7fcc",
   "metadata": {
    "scrolled": true
   },
   "outputs": [
    {
     "data": {
      "image/png": "[encoded data removed]",
      "text/plain": [
       "<Figure size 1150x1200 with 2 Axes>"
      ]
     },
     "metadata": {},
     "output_type": "display_data"
    },
    {
     "data": {
      "image/png": "[encoded data removed]",
      "text/plain": [
       "<Figure size 1150x1200 with 2 Axes>"
      ]
     },
     "metadata": {},
     "output_type": "display_data"
    },
    {
     "data": {
      "image/png": "[encoded data removed]",
      "text/plain": [
       "<Figure size 1150x1200 with 2 Axes>"
      ]
     },
     "metadata": {},
     "output_type": "display_data"
    },
    {
     "data": {
      "image/png": "[encoded data removed]",
      "text/plain": [
       "<Figure size 1150x1200 with 2 Axes>"
      ]
     },
     "metadata": {},
     "output_type": "display_data"
    },
    {
     "data": {
      "image/png": "[encoded data removed]",
      "text/plain": [
       "<Figure size 1150x1200 with 2 Axes>"
      ]
     },
     "metadata": {},
     "output_type": "display_data"
    },
    {
     "data": {
      "image/png": "[encoded data removed]",
      "text/plain": [
       "<Figure size 1150x1200 with 2 Axes>"
      ]
     },
     "metadata": {},
     "output_type": "display_data"
    },
    {
     "data": {
      "image/png": "[encoded data removed]",
      "text/plain": [
       "<Figure size 1150x1200 with 2 Axes>"
      ]
     },
     "metadata": {},
     "output_type": "display_data"
    }
   ],
   "source": [
    "visualization(df_copy.select_dtypes(np.number))"
   ]
  },
  {
   "cell_type": "code",
   "execution_count": 164,
   "id": "f9aaf6d2",
   "metadata": {},
   "outputs": [
    {
     "data": {
      "text/plain": [
       "id\n",
       "139727     536500\n",
       "85031      486500\n",
       "35554      446500\n",
       "77620     1336500\n",
       "149538     326500\n",
       "           ...   \n",
       "84908      936500\n",
       "141519     726500\n",
       "74639      656500\n",
       "139449     446500\n",
       "156617     436500\n",
       "Name: loan_amount, Length: 94, dtype: int64"
      ]
     },
     "execution_count": 164,
     "metadata": {},
     "output_type": "execute_result"
    }
   ],
   "source": [
    "df_copy['loan_amount'].loc[df_copy['income'] > 70000]"
   ]
  },
  {
   "cell_type": "markdown",
   "id": "01dac16f",
   "metadata": {},
   "source": [
    "### Missing values detection"
   ]
  },
  {
   "cell_type": "markdown",
   "id": "a8df02f9",
   "metadata": {},
   "source": [
    "Есть ли пропущенные данные?"
   ]
  },
  {
   "cell_type": "markdown",
   "id": "566038a9",
   "metadata": {},
   "source": [
    "---"
   ]
  },
  {
   "cell_type": "markdown",
   "id": "20f94640",
   "metadata": {},
   "source": [
    "<div class=\"alert alert-info\">\n",
    "  <h1><center>Preprocessing (3 балла)</center></h1></div>"
   ]
  },
  {
   "cell_type": "markdown",
   "id": "1e3226de",
   "metadata": {},
   "source": [
    "# <center>Numerical features</center>"
   ]
  },
  {
   "cell_type": "markdown",
   "id": "35ad13d0",
   "metadata": {},
   "source": [
    "### Deal with extreme values"
   ]
  },
  {
   "cell_type": "markdown",
   "id": "ba7f37a2",
   "metadata": {},
   "source": [
    "Напишите / используйте функции / трансформеры, которые будут \"исправлять\" экстримальные значения (какой способ лучше подходит? почему?)"
   ]
  },
  {
   "cell_type": "markdown",
   "id": "0ed8a424",
   "metadata": {},
   "source": [
    "### rate_of_interest\n",
    "насколько я понял это колонка показывает ставку в процентах. впринципе есть значения довольно большие по типу 6-8%,\n",
    "также есть 0%, но вроде как и 0 и 6-8% могут быть, это как раз единичные случаи, так что в этой колонке нет аутлаеров,\n",
    "я так считаю\n",
    "\n",
    "\n",
    "### interest_rate_spread\n",
    "это вроде разница между двумя ставками в процентах, то есть и отрицательные, и положительные значения являются нормой.\n",
    "Можно сказать что -3% довольно большая разница, но я проверил и увидел что эти -3% как раз у того человека, у которого значение rate_of_interest равно 0%. Следовательно ничего аномального в этом значении нет.\n",
    "\n",
    "\n",
    "### property_value \n",
    "стоимость недвижимости. Опять же она может быть почти сколь угодно большой. Но я посчитал, что все значения большие 10^9 я клипну к максимальному(даже если эти значения впринципе могут быть), а минимальное значение для клипа будет естественно 0, так как впринципе ниже 0 стоимость недвижимости не может быть, а 0 легко объясняется отсутствием недвижимости\n",
    "\n",
    "\n",
    "### upfront_charges\n",
    "стоимость залога. Максимальное значение 60000. Опять же не такое огромное значение, чтобы 100% сказать ну такого быть не может(естественно сравнивая с property_value). Так что оставлю все как есть\n",
    "\n",
    "\n",
    "### term\n",
    "тут очевидно нет никаких экстремальных значений\n",
    "\n",
    "\n",
    "### ltv \n",
    "не очень понял что это. В интернете было 2 варианта. Один говорит что это относится к банку, но тогда должно быть выражено в процентах, второй вариант говорит, что это не оч относится к банку, но я все равно не знаю какие значение тут экстремальные. Но судя по графику все, что больше 300 можно клипунть.\n",
    "\n",
    "\n",
    "### credit_score \n",
    "тут ничего делать не надо\n",
    "\n",
    "\n",
    "остались две самые интересные колонки loan_amount and income. Которые в каком-то смысле должны зависить друг от друга.\n",
    "Какой смысл брать человеку кредит в 1 миллион, при доходе в 600000. Но не мне решать есть ли в этом смысл или нет.\n",
    "Поэтому оставлю все как есть"
   ]
  },
  {
   "cell_type": "markdown",
   "id": "76a6e4f1",
   "metadata": {},
   "source": [
    "#### ClipTransformer\n"
   ]
  },
  {
   "cell_type": "code",
   "execution_count": 165,
   "id": "d28a8815",
   "metadata": {},
   "outputs": [],
   "source": [
    "class ClipTransfromer(CustomTransformer):\n",
    "    \n",
    "    def __init__(self, min_value: float, max_value: float):\n",
    "        self.min_value = min_value\n",
    "        self.max_value = max_value\n",
    "    \n",
    "    def transform(self, X: pd.DataFrame) -> pd.DataFrame:\n",
    "        X = super().transform(X)\n",
    "        for col_name in X.columns:\n",
    "            X[col_name].loc[X[col_name] < self.min_value] = self.min_value\n",
    "            X[col_name].loc[X[col_name] > self.max_value] = self.max_value\n",
    "        return X"
   ]
  },
  {
   "cell_type": "code",
   "execution_count": 166,
   "id": "8e070fc5",
   "metadata": {},
   "outputs": [
    {
     "data": {
      "text/plain": [
       "308000.0     1434\n",
       "258000.0     1413\n",
       "358000.0     1377\n",
       "328000.0     1291\n",
       "268000.0     1289\n",
       "             ... \n",
       "4408000.0       1\n",
       "3218000.0       1\n",
       "5208000.0       1\n",
       "3128000.0       1\n",
       "3848000.0       1\n",
       "Name: property_value, Length: 329, dtype: int64"
      ]
     },
     "execution_count": 166,
     "metadata": {},
     "output_type": "execute_result"
    }
   ],
   "source": [
    "# df_copy['property_value'].loc[df_copy['property_value'] > 200000000] = 0\n",
    "from sklearn.preprocessing import FunctionTransformer\n",
    "clipper = FunctionTransformer(lambda x: pd.Series.clip(x, lower=0, upper=7000000), validate=False)\n",
    "df_copy['property_value'] = clipper.transform(df['property_value'])\n",
    "df_copy['property_value'].value_counts()"
   ]
  },
  {
   "cell_type": "markdown",
   "id": "210c30bf",
   "metadata": {},
   "source": [
    "### Deal with missing values"
   ]
  },
  {
   "cell_type": "markdown",
   "id": "454156ee",
   "metadata": {},
   "source": [
    "Напишите/используйте функции/трансформеры для заполнения пропущенных значений. Какова логика? Напишите краткое пояснение, почему Вы выбрали тот или иной подход"
   ]
  },
  {
   "cell_type": "markdown",
   "id": "477c05a4",
   "metadata": {},
   "source": [
    "впринципе я хотел заполнить пропущенные значения исходя из распределения в этом же столбце и добавить столбец-индикатор. Но можно просто заполнить невозможными для этих столбцов значениями. Причем одно знаечние для каждого столбика."
   ]
  },
  {
   "cell_type": "markdown",
   "id": "c87398e3",
   "metadata": {},
   "source": [
    "####  property_value, income, rate_of_interest, ltv, upfront_charges\n",
    "заполняем все наны -1. \n",
    "\n",
    "\n",
    "#### term \n",
    "заполним самым встречающимся значением, так как оно составляет порядка 80% и значение не мало.\n",
    "\n",
    "\n",
    "#### interest_rate_spread\n",
    "заполняем очень большим значением, так как очевидно знаечние разницы процентов не может быть больше 100."
   ]
  },
  {
   "cell_type": "markdown",
   "id": "db7504cf",
   "metadata": {},
   "source": [
    "### term "
   ]
  },
  {
   "cell_type": "code",
   "execution_count": 167,
   "id": "628b1af1",
   "metadata": {},
   "outputs": [
    {
     "ename": "KeyError",
     "evalue": "'col'",
     "output_type": "error",
     "traceback": [
      "\u001b[1;31m---------------------------------------------------------------------------\u001b[0m",
      "\u001b[1;31mKeyError\u001b[0m                                  Traceback (most recent call last)",
      "File \u001b[1;32m~\\anaconda3\\lib\\site-packages\\pandas\\core\\indexes\\base.py:3802\u001b[0m, in \u001b[0;36mIndex.get_loc\u001b[1;34m(self, key, method, tolerance)\u001b[0m\n\u001b[0;32m   3801\u001b[0m \u001b[38;5;28;01mtry\u001b[39;00m:\n\u001b[1;32m-> 3802\u001b[0m     \u001b[38;5;28;01mreturn\u001b[39;00m \u001b[38;5;28;43mself\u001b[39;49m\u001b[38;5;241;43m.\u001b[39;49m\u001b[43m_engine\u001b[49m\u001b[38;5;241;43m.\u001b[39;49m\u001b[43mget_loc\u001b[49m\u001b[43m(\u001b[49m\u001b[43mcasted_key\u001b[49m\u001b[43m)\u001b[49m\n\u001b[0;32m   3803\u001b[0m \u001b[38;5;28;01mexcept\u001b[39;00m \u001b[38;5;167;01mKeyError\u001b[39;00m \u001b[38;5;28;01mas\u001b[39;00m err:\n",
      "File \u001b[1;32m~\\anaconda3\\lib\\site-packages\\pandas\\_libs\\index.pyx:138\u001b[0m, in \u001b[0;36mpandas._libs.index.IndexEngine.get_loc\u001b[1;34m()\u001b[0m\n",
      "File \u001b[1;32m~\\anaconda3\\lib\\site-packages\\pandas\\_libs\\index.pyx:165\u001b[0m, in \u001b[0;36mpandas._libs.index.IndexEngine.get_loc\u001b[1;34m()\u001b[0m\n",
      "File \u001b[1;32mpandas\\_libs\\hashtable_class_helper.pxi:5745\u001b[0m, in \u001b[0;36mpandas._libs.hashtable.PyObjectHashTable.get_item\u001b[1;34m()\u001b[0m\n",
      "File \u001b[1;32mpandas\\_libs\\hashtable_class_helper.pxi:5753\u001b[0m, in \u001b[0;36mpandas._libs.hashtable.PyObjectHashTable.get_item\u001b[1;34m()\u001b[0m\n",
      "\u001b[1;31mKeyError\u001b[0m: 'col'",
      "\nThe above exception was the direct cause of the following exception:\n",
      "\u001b[1;31mKeyError\u001b[0m                                  Traceback (most recent call last)",
      "Cell \u001b[1;32mIn[167], line 4\u001b[0m\n\u001b[0;32m      1\u001b[0m \u001b[38;5;28;01mfrom\u001b[39;00m \u001b[38;5;21;01msklearn\u001b[39;00m\u001b[38;5;21;01m.\u001b[39;00m\u001b[38;5;21;01mimpute\u001b[39;00m \u001b[38;5;28;01mimport\u001b[39;00m SimpleImputer\n\u001b[0;32m      3\u001b[0m imp \u001b[38;5;241m=\u001b[39m SimpleImputer(missing_values\u001b[38;5;241m=\u001b[39mnp\u001b[38;5;241m.\u001b[39mnan, strategy\u001b[38;5;241m=\u001b[39m\u001b[38;5;124m'\u001b[39m\u001b[38;5;124mconstant\u001b[39m\u001b[38;5;124m'\u001b[39m, fill_value\u001b[38;5;241m=\u001b[39mdf_copy[\u001b[38;5;124m'\u001b[39m\u001b[38;5;124mterm\u001b[39m\u001b[38;5;124m'\u001b[39m]\u001b[38;5;241m.\u001b[39mvalue_counts()\u001b[38;5;241m.\u001b[39midxmax())\n\u001b[1;32m----> 4\u001b[0m df[\u001b[38;5;124m'\u001b[39m\u001b[38;5;124mcol\u001b[39m\u001b[38;5;124m'\u001b[39m] \u001b[38;5;241m=\u001b[39m imp\u001b[38;5;241m.\u001b[39mfit_transform(\u001b[43mdf\u001b[49m\u001b[43m[\u001b[49m\u001b[38;5;124;43m'\u001b[39;49m\u001b[38;5;124;43mcol\u001b[39;49m\u001b[38;5;124;43m'\u001b[39;49m\u001b[43m]\u001b[49m)\n",
      "File \u001b[1;32m~\\anaconda3\\lib\\site-packages\\pandas\\core\\frame.py:3807\u001b[0m, in \u001b[0;36mDataFrame.__getitem__\u001b[1;34m(self, key)\u001b[0m\n\u001b[0;32m   3805\u001b[0m \u001b[38;5;28;01mif\u001b[39;00m \u001b[38;5;28mself\u001b[39m\u001b[38;5;241m.\u001b[39mcolumns\u001b[38;5;241m.\u001b[39mnlevels \u001b[38;5;241m>\u001b[39m \u001b[38;5;241m1\u001b[39m:\n\u001b[0;32m   3806\u001b[0m     \u001b[38;5;28;01mreturn\u001b[39;00m \u001b[38;5;28mself\u001b[39m\u001b[38;5;241m.\u001b[39m_getitem_multilevel(key)\n\u001b[1;32m-> 3807\u001b[0m indexer \u001b[38;5;241m=\u001b[39m \u001b[38;5;28;43mself\u001b[39;49m\u001b[38;5;241;43m.\u001b[39;49m\u001b[43mcolumns\u001b[49m\u001b[38;5;241;43m.\u001b[39;49m\u001b[43mget_loc\u001b[49m\u001b[43m(\u001b[49m\u001b[43mkey\u001b[49m\u001b[43m)\u001b[49m\n\u001b[0;32m   3808\u001b[0m \u001b[38;5;28;01mif\u001b[39;00m is_integer(indexer):\n\u001b[0;32m   3809\u001b[0m     indexer \u001b[38;5;241m=\u001b[39m [indexer]\n",
      "File \u001b[1;32m~\\anaconda3\\lib\\site-packages\\pandas\\core\\indexes\\base.py:3804\u001b[0m, in \u001b[0;36mIndex.get_loc\u001b[1;34m(self, key, method, tolerance)\u001b[0m\n\u001b[0;32m   3802\u001b[0m     \u001b[38;5;28;01mreturn\u001b[39;00m \u001b[38;5;28mself\u001b[39m\u001b[38;5;241m.\u001b[39m_engine\u001b[38;5;241m.\u001b[39mget_loc(casted_key)\n\u001b[0;32m   3803\u001b[0m \u001b[38;5;28;01mexcept\u001b[39;00m \u001b[38;5;167;01mKeyError\u001b[39;00m \u001b[38;5;28;01mas\u001b[39;00m err:\n\u001b[1;32m-> 3804\u001b[0m     \u001b[38;5;28;01mraise\u001b[39;00m \u001b[38;5;167;01mKeyError\u001b[39;00m(key) \u001b[38;5;28;01mfrom\u001b[39;00m \u001b[38;5;21;01merr\u001b[39;00m\n\u001b[0;32m   3805\u001b[0m \u001b[38;5;28;01mexcept\u001b[39;00m \u001b[38;5;167;01mTypeError\u001b[39;00m:\n\u001b[0;32m   3806\u001b[0m     \u001b[38;5;66;03m# If we have a listlike key, _check_indexing_error will raise\u001b[39;00m\n\u001b[0;32m   3807\u001b[0m     \u001b[38;5;66;03m#  InvalidIndexError. Otherwise we fall through and re-raise\u001b[39;00m\n\u001b[0;32m   3808\u001b[0m     \u001b[38;5;66;03m#  the TypeError.\u001b[39;00m\n\u001b[0;32m   3809\u001b[0m     \u001b[38;5;28mself\u001b[39m\u001b[38;5;241m.\u001b[39m_check_indexing_error(key)\n",
      "\u001b[1;31mKeyError\u001b[0m: 'col'"
     ]
    }
   ],
   "source": [
    "from sklearn.impute import SimpleImputer\n",
    "\n",
    "imp = SimpleImputer(missing_values=np.nan, strategy='constant', fill_value=df_copy['term'].value_counts().idxmax())\n",
    "df['col'] = imp.fit_transform(df['col'])"
   ]
  },
  {
   "cell_type": "code",
   "execution_count": null,
   "id": "80fd5beb",
   "metadata": {},
   "outputs": [],
   "source": [
    "df_copy['term'].isna().mean()"
   ]
  },
  {
   "cell_type": "code",
   "execution_count": null,
   "id": "96d602dc",
   "metadata": {},
   "outputs": [],
   "source": [
    "print(df_copy.columns)\n",
    "X.columns\n"
   ]
  },
  {
   "cell_type": "code",
   "execution_count": null,
   "id": "f8d58bbd",
   "metadata": {},
   "outputs": [],
   "source": [
    "from sklearn.compose import ColumnTransformer\n",
    "from sklearn.impute import SimpleImputer\n",
    "\n",
    "\n",
    "preprocessing_transformer = ColumnTransformer(\n",
    "    transformers=[\n",
    "                    (\n",
    "                        'to_numeric',\n",
    "                        RegexTransformer(regex=r'[0-9]+', target_dtype=int),\n",
    "                        ['credit_score', 'total_units']\n",
    "                    )\n",
    "                ],\n",
    "    remainder=\"passthrough\",\n",
    "    verbose_feature_names_out=False\n",
    ").set_output(transform=\"pandas\")\n",
    "\n",
    "\n",
    "outlier_transformer = ColumnTransformer(\n",
    "    transformers=[\n",
    "                        (\n",
    "                            'clip1',\n",
    "                            ClipTransfromer(min_value=0, max_value=1000000000),\n",
    "                            ['property_value']\n",
    "                        ),\n",
    "                        (\n",
    "                           'clip2',\n",
    "                            ClipTransfromer(min_value=0, max_value=300),\n",
    "                            ['ltv'] \n",
    "                        )       \n",
    "                ],\n",
    "    remainder=\"passthrough\",\n",
    "    verbose_feature_names_out=False\n",
    ").set_output(transform=\"pandas\")\n",
    " \n",
    "    \n",
    "    \n",
    "fillna_transformer = ColumnTransformer(\n",
    "    transformers=[\n",
    "                        (\n",
    "                            'fill_with_-1',\n",
    "                            SimpleImputer(missing_values=np.nan, strategy='constant', fill_value=-1),\n",
    "                            ['property_value', 'income', 'ltv', 'upfront_charges']\n",
    "                        ),\n",
    "                        (\n",
    "                            'fill_with_most_frequent',\n",
    "                            SimpleImputer(missing_values=np.nan, strategy='most_frequent'),\n",
    "                            ['term']\n",
    "                        )\n",
    "                ],\n",
    "    remainder=\"passthrough\",\n",
    "    verbose_feature_names_out=False\n",
    ").set_output(transform=\"pandas\")\n",
    "\n",
    "\n",
    "X = preprocessing_transformer.fit_transform(df_copy)\n",
    "X = outlier_transformer.fit_transform(X)\n",
    "X = fillna_transformer.fit_transform(X)\n"
   ]
  },
  {
   "cell_type": "markdown",
   "id": "6872dd8d",
   "metadata": {},
   "source": [
    "# <center>Categorical Features</center>"
   ]
  },
  {
   "cell_type": "markdown",
   "id": "8ed75cf9",
   "metadata": {},
   "source": [
    "Какие признаки и как Вы будете кодировать?"
   ]
  },
  {
   "cell_type": "markdown",
   "id": "9c8d6b3e",
   "metadata": {},
   "source": [
    "### Encode nominal featuers"
   ]
  },
  {
   "cell_type": "markdown",
   "id": "bca73b97",
   "metadata": {},
   "source": [
    "# категориальные признаки\n",
    "\n",
    "#### loan_limit\n",
    "впринципе спокойно можно кодировать onehot\n",
    "\n",
    "#### gender \n",
    "по идее можно joint закодировать как 1 в male и 1 в female\n",
    "\n",
    "#### approv_in_adv\n",
    "спокойно можно кодировать onehot\n",
    "\n",
    "#### loan_type\n",
    "тут тоже можно onehot\n",
    "\n",
    "#### loan_purpose\n",
    "казалось бы очень похоже на total_units вроде как loan purpose означает цель кредита и цели нельзя сравнивать по величине(хотя вроде и можно если учитывать, что цели отличаются кол-вом денег, но у нас неизвестно какой вид из p1, p2, p3, p4 какой сумме денег соответсвует). Поэтому onehot\n",
    "\n",
    "#### credit_worthiness\n",
    "кредитоспособность тоже вроде нельзя сравнить сказав, что l1 больше или меньше l2. Поэтому тоже onehot\n",
    "\n",
    "#### open_credit\n",
    "onehot\n",
    "\n",
    "#### business_or_commercial\n",
    "onehot\n",
    "\n",
    "#### neg_ammortization\n",
    "onehot\n",
    "\n",
    "#### interest_only\n",
    "onehot\n",
    "\n",
    "\n",
    "#### occupancy_type\n",
    "onehot\n",
    "\n",
    "\n",
    "#### credit_type\n",
    "onehot\n",
    "\n",
    "#### co-applicant_credit_type\n",
    "onehot\n",
    "\n",
    "#### age\n",
    "onehot, но может быть еще добавить колоночку 18-24\n",
    "\n",
    "#### submission_of_application\n",
    "onehot\n",
    "\n",
    "#### region\n",
    "onehot\n",
    "\n",
    "#### security_type\n",
    "onehot\n",
    "\n",
    "#### lump_sum_payment\n",
    "onehot"
   ]
  },
  {
   "cell_type": "code",
   "execution_count": null,
   "id": "6dfab82c",
   "metadata": {},
   "outputs": [],
   "source": [
    "from sklearn.preprocessing import OneHotEncoder\n",
    "\n",
    "\n",
    "categorial_features = ColumnTransformer(\n",
    "    transformers=[\n",
    "                    (\n",
    "                        'onehot',\n",
    "                        OneHotEncoder(sparse_output=False, handle_unknown=\"ignore\"),\n",
    "                        [\n",
    "                            'security_type', 'region', 'submission_of_application', 'co-applicant_credit_type',\n",
    "                            'credit_type', 'occupancy_type', 'interest_only',\n",
    "                            'neg_ammortization', 'business_or_commercial', 'open_credit', 'loan_type', 'approv_in_adv',\n",
    "                            'loan_limit', 'gender', 'age', 'credit_worthiness', 'loan_purpose','lump_sum_payment'\n",
    "                        ]\n",
    "                    )\n",
    "                ],\n",
    "    remainder=\"passthrough\",\n",
    "    verbose_feature_names_out=False\n",
    ").set_output(transform=\"pandas\")"
   ]
  },
  {
   "cell_type": "markdown",
   "id": "e1c44fef",
   "metadata": {},
   "source": [
    "### Encode ordinal features"
   ]
  },
  {
   "cell_type": "code",
   "execution_count": null,
   "id": "4425fbb5",
   "metadata": {},
   "outputs": [],
   "source": []
  },
  {
   "cell_type": "markdown",
   "id": "d7ae6890",
   "metadata": {},
   "source": [
    "---"
   ]
  },
  {
   "cell_type": "markdown",
   "id": "16f6bf71",
   "metadata": {},
   "source": [
    "<div class=\"alert alert-info\">\n",
    "  <h1><center>Pipeline (3 балла)</center></h1></div>"
   ]
  },
  {
   "cell_type": "markdown",
   "id": "d9426edd",
   "metadata": {},
   "source": [
    "Соберите pipeline, который будет реализовывать все предыдущие трансформации"
   ]
  },
  {
   "cell_type": "code",
   "execution_count": 168,
   "id": "4d886fb5",
   "metadata": {},
   "outputs": [],
   "source": [
    "from sklearn.pipeline import Pipeline"
   ]
  },
  {
   "cell_type": "code",
   "execution_count": 169,
   "id": "175f3af1",
   "metadata": {},
   "outputs": [],
   "source": [
    "pipe = Pipeline(\n",
    "                steps=[\n",
    "                        ('preprocessing_transformer', preprocessing_transformer),\n",
    "                        ('outlier_transformer', outlier_transformer),\n",
    "                        ('fillna_transformer', fillna_transformer),\n",
    "                        ('categorial_transformer', categorial_features)\n",
    "                    ],\n",
    "                verbose=True\n",
    "            ).set_output(transform=\"pandas\")"
   ]
  },
  {
   "cell_type": "code",
   "execution_count": 170,
   "id": "07120b11",
   "metadata": {},
   "outputs": [
    {
     "name": "stdout",
     "output_type": "stream",
     "text": [
      "[Pipeline]  (step 1 of 4) Processing preprocessing_transformer, total=   0.9s\n",
      "[Pipeline]  (step 2 of 4) Processing outlier_transformer, total=   0.1s\n",
      "[Pipeline]  (step 3 of 4) Processing fillna_transformer, total=   0.2s\n",
      "[Pipeline]  (step 4 of 4) Processing categorial_transformer, total=   0.9s\n",
      "[Pipeline]  (step 1 of 4) Processing preprocessing_transformer, total=   0.1s\n",
      "[Pipeline]  (step 2 of 4) Processing outlier_transformer, total=   0.0s\n",
      "[Pipeline]  (step 3 of 4) Processing fillna_transformer, total=   0.1s\n",
      "[Pipeline]  (step 4 of 4) Processing categorial_transformer, total=   0.2s\n"
     ]
    }
   ],
   "source": [
    "X_train = pipe.fit_transform(X_train)\n",
    "X_test = pipe.fit_transform(X_test)"
   ]
  },
  {
   "cell_type": "markdown",
   "id": "8f7b944e",
   "metadata": {},
   "source": [
    "<div class=\"alert alert-info\">\n",
    "  <h1><center>Model (2 балла)</center></h1></div>"
   ]
  },
  {
   "cell_type": "markdown",
   "id": "5cd109c3",
   "metadata": {},
   "source": [
    "Выберите любую из пройденных моделей и примените её к обработанному датасету"
   ]
  },
  {
   "cell_type": "code",
   "execution_count": 174,
   "id": "591dee7b",
   "metadata": {},
   "outputs": [],
   "source": [
    "from sklearn.ensemble import VotingClassifier\n",
    "from sklearn.tree import DecisionTreeClassifier\n",
    "from sklearn.ensemble import RandomForestClassifier\n",
    "from sklearn.metrics import classification_report"
   ]
  },
  {
   "cell_type": "code",
   "execution_count": 175,
   "id": "cccf6af9",
   "metadata": {},
   "outputs": [
    {
     "name": "stdout",
     "output_type": "stream",
     "text": [
      "              precision    recall  f1-score   support\n",
      "\n",
      "           0       1.00      0.98      0.99     18015\n",
      "           1       0.93      1.00      0.96      5773\n",
      "\n",
      "    accuracy                           0.98     23788\n",
      "   macro avg       0.97      0.99      0.98     23788\n",
      "weighted avg       0.98      0.98      0.98     23788\n",
      "\n"
     ]
    }
   ],
   "source": [
    "rfc = RandomForestClassifier(random_state=1, max_depth=6, min_samples_leaf=50)\n",
    "rfc.fit(X_train, Y_train)\n",
    "rfc.score(X_test, Y_test)\n",
    "benchmark_classifier.fit(X_train, Y_train)\n",
    "y_pred_benchmark = benchmark_classifier.predict(X_test)\n",
    "print(classification_report(Y_test, y_pred_benchmark))"
   ]
  },
  {
   "cell_type": "markdown",
   "id": "e4787520",
   "metadata": {},
   "source": [
    "Оцените модель при помощи изученных метрик"
   ]
  },
  {
   "cell_type": "code",
   "execution_count": null,
   "id": "f9f40f53",
   "metadata": {},
   "outputs": [],
   "source": []
  },
  {
   "cell_type": "markdown",
   "id": "2e025d0b",
   "metadata": {},
   "source": [
    "Что можно сделать, чтобы оптимизировать полученную модель?"
   ]
  },
  {
   "cell_type": "code",
   "execution_count": null,
   "id": "3333043e",
   "metadata": {},
   "outputs": [],
   "source": []
  },
  {
   "cell_type": "markdown",
   "id": "3d48c1ab",
   "metadata": {},
   "source": [
    "---"
   ]
  },
  {
   "cell_type": "markdown",
   "id": "e3557221",
   "metadata": {},
   "source": [
    "# <center>Удачи!</center>"
   ]
  }
 ],
 "metadata": {
  "kernelspec": {
   "display_name": "Python 3 (ipykernel)",
   "language": "python",
   "name": "python3"
  },
  "language_info": {
   "codemirror_mode": {
    "name": "ipython",
    "version": 3
   },
   "file_extension": ".py",
   "mimetype": "text/x-python",
   "name": "python",
   "nbconvert_exporter": "python",
   "pygments_lexer": "ipython3",
   "version": "3.10.9"
  }
 },
 "nbformat": 4,
 "nbformat_minor": 5
}
